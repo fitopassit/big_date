{
 "cells": [
  {
   "cell_type": "markdown",
   "id": "99cad189-7390-4b1b-b792-23ddb1c2ab33",
   "metadata": {},
   "source": [
    "Пирогов Артём. группа 6409. Лабораторная № 2"
   ]
  },
  {
   "cell_type": "markdown",
   "id": "c7399c39-80f9-418d-8865-d403beccaf47",
   "metadata": {},
   "source": [
    "### Задание\n",
    "Сформировать отчёт с информацией о 10 наиболее популярных языках программирования по итогам года за период с 2010 по 2020 годы. \n",
    "\n",
    "Получившийся отчёт сохранить в формате Apache Parquet."
   ]
  },
  {
   "cell_type": "code",
   "execution_count": 3,
   "id": "005a95f2-0ba9-4f04-9491-1c61e25bbc9a",
   "metadata": {},
   "outputs": [],
   "source": [
    "from pyspark import SparkContext, SparkConf\n",
    "from datetime import datetime\n",
    "from pyspark.sql import SparkSession\n",
    "\n",
    "from typing import NamedTuple\n",
    "import pandas as pd\n",
    "import os\n",
    "import numpy as np\n"
   ]
  },
  {
   "cell_type": "code",
   "execution_count": 4,
   "id": "a81de715-b56e-4233-bdf9-be364e2069e8",
   "metadata": {},
   "outputs": [],
   "source": [
    "os.environ['PYSPARK_SUBMIT_ARGS'] = '--packages com.databricks:spark-xml_2.12:0.14.0 pyspark-shell'"
   ]
  },
  {
   "cell_type": "code",
   "execution_count": 6,
   "id": "7487d715-8cb6-482f-830c-7d7e8188347f",
   "metadata": {},
   "outputs": [
    {
     "data": {
      "text/html": [
       "\n",
       "            <div>\n",
       "                <p><b>SparkSession - in-memory</b></p>\n",
       "                \n",
       "        <div>\n",
       "            <p><b>SparkContext</b></p>\n",
       "\n",
       "            <p><a href=\"http://n1.maapr.xyz:4045\">Spark UI</a></p>\n",
       "\n",
       "            <dl>\n",
       "              <dt>Version</dt>\n",
       "                <dd><code>v3.1.2.0-eep-800</code></dd>\n",
       "              <dt>Master</dt>\n",
       "                <dd><code>local[*]</code></dd>\n",
       "              <dt>AppName</dt>\n",
       "                <dd><code>Project2</code></dd>\n",
       "            </dl>\n",
       "        </div>\n",
       "        \n",
       "            </div>\n",
       "        "
      ],
      "text/plain": [
       "<pyspark.sql.session.SparkSession at 0x7fa0a1a448e0>"
      ]
     },
     "execution_count": 6,
     "metadata": {},
     "output_type": "execute_result"
    }
   ],
   "source": [
    "sc = SparkSession.builder.appName(\"Project2\").master(\"local[*]\").getOrCreate()\n",
    "sc"
   ]
  },
  {
   "cell_type": "code",
   "execution_count": 42,
   "id": "563d8662-bae9-4065-b3ed-5dc87fd0e935",
   "metadata": {},
   "outputs": [],
   "source": [
    "posts_sample = sc.read.format('xml').option('rowTag', 'row').load(\"data/posts_sample.xml\")"
   ]
  },
  {
   "cell_type": "code",
   "execution_count": 63,
   "id": "4ee4ae46-99fc-47e7-9052-555704eae567",
   "metadata": {},
   "outputs": [
    {
     "data": {
      "text/plain": [
       "[Row(_AcceptedAnswerId=7, _AnswerCount=13, _Body=\"<p>I want to use a track-bar to change a form's opacity.</p>\\n\\n<p>This is my code:</p>\\n\\n<pre><code>decimal trans = trackBar1.Value / 5000;\\nthis.Opacity = trans;\\n</code></pre>\\n\\n<p>When I build the application, it gives the following error:</p>\\n\\n<blockquote>\\n  <p>Cannot implicitly convert type <code>'decimal'</code> to <code>'double'</code></p>\\n</blockquote>\\n\\n<p>I tried using <code>trans</code> and <code>double</code> but then the control doesn't work. This code worked fine in a past VB.NET project.</p>\\n\", _ClosedDate=None, _CommentCount=2, _CommunityOwnedDate=datetime.datetime(2012, 10, 31, 20, 42, 47, 213000), _CreationDate=datetime.datetime(2008, 8, 1, 2, 42, 52, 667000), _FavoriteCount=48, _Id=4, _LastActivityDate=datetime.datetime(2019, 7, 19, 5, 39, 54, 173000), _LastEditDate=datetime.datetime(2019, 7, 19, 5, 39, 54, 173000), _LastEditorDisplayName='Rich B', _LastEditorUserId=3641067, _OwnerDisplayName=None, _OwnerUserId=8, _ParentId=None, _PostTypeId=1, _Score=630, _Tags='<c#><floating-point><type-conversion><double><decimal>', _Title='Convert Decimal to Double?', _ViewCount=42817),\n",
       " Row(_AcceptedAnswerId=31, _AnswerCount=6, _Body=\"<p>I have an absolutely positioned <code>div</code> containing several children, one of which is a relatively positioned <code>div</code>. When I use a <code>percentage-based width</code> on the child <code>div</code>, it collapses to <code>0 width</code> on IE7, but not on Firefox or Safari.</p>\\n\\n<p>If I use <code>pixel width</code>, it works. If the parent is relatively positioned, the percentage width on the child works.</p>\\n\\n<ol>\\n<li>Is there something I'm missing here?</li>\\n<li>Is there an easy fix for this besides the <code>pixel-based width</code> on the\\nchild?</li>\\n<li>Is there an area of the CSS specification that covers this?</li>\\n</ol>\\n\", _ClosedDate=None, _CommentCount=0, _CommunityOwnedDate=None, _CreationDate=datetime.datetime(2008, 8, 1, 3, 8, 8, 620000), _FavoriteCount=10, _Id=6, _LastActivityDate=datetime.datetime(2019, 7, 19, 5, 43, 4, 77000), _LastEditDate=datetime.datetime(2019, 7, 19, 5, 43, 4, 77000), _LastEditorDisplayName='Rich B', _LastEditorUserId=3641067, _OwnerDisplayName=None, _OwnerUserId=9, _ParentId=None, _PostTypeId=1, _Score=281, _Tags='<html><css><internet-explorer-7>', _Title='Percentage width child element in absolutely positioned parent on Internet Explorer 7', _ViewCount=18214),\n",
       " Row(_AcceptedAnswerId=None, _AnswerCount=None, _Body=\"<p>An explicit cast to double like this isn't necessary:</p>\\n\\n<pre><code>double trans = (double) trackBar1.Value / 5000.0;\\n</code></pre>\\n\\n<p>Identifying the constant as <code>5000.0</code> (or as <code>5000d</code>) is sufficient:</p>\\n\\n<pre><code>double trans = trackBar1.Value / 5000.0;\\ndouble trans = trackBar1.Value / 5000d;\\n</code></pre>\\n\", _ClosedDate=None, _CommentCount=0, _CommunityOwnedDate=None, _CreationDate=datetime.datetime(2008, 8, 1, 3, 17, 57, 883000), _FavoriteCount=None, _Id=7, _LastActivityDate=datetime.datetime(2017, 12, 16, 9, 6, 57, 613000), _LastEditDate=datetime.datetime(2017, 12, 16, 9, 6, 57, 613000), _LastEditorDisplayName=None, _LastEditorUserId=4020527, _OwnerDisplayName=None, _OwnerUserId=9, _ParentId=4, _PostTypeId=2, _Score=425, _Tags=None, _Title=None, _ViewCount=None)]"
      ]
     },
     "execution_count": 63,
     "metadata": {},
     "output_type": "execute_result"
    }
   ],
   "source": [
    "posts_sample.take(3)"
   ]
  },
  {
   "cell_type": "code",
   "execution_count": 162,
   "id": "b352e950-5651-4b64-9636-10227cd23833",
   "metadata": {},
   "outputs": [
    {
     "data": {
      "text/plain": [
       "[Row(_AcceptedAnswerId=None, _AnswerCount=None, _Body='<p>No. (And more stuff to round this up to 15 characters...)</p>\\n', _ClosedDate=None, _CommentCount=6, _CommunityOwnedDate=None, _CreationDate=datetime.datetime(2010, 9, 20, 20, 18, 14, 580000), _FavoriteCount=None, _Id=3753373, _LastActivityDate=datetime.datetime(2010, 9, 20, 20, 18, 14, 580000), _LastEditDate=None, _LastEditorDisplayName=None, _LastEditorUserId=None, _OwnerDisplayName=None, _OwnerUserId=10293, _ParentId=3753364, _PostTypeId=2, _Score=13, _Tags=None, _Title=None, _ViewCount=None),\n",
       " Row(_AcceptedAnswerId=None, _AnswerCount=None, _Body='<p>I am not aware of a way to use the URL parameters the way you have indicated. If anyone knows better, do correct me.</p>\\n\\n<p>I faced a similar situation some time ago and made do with a thin wrapper over the <code>list_detail</code> view. </p>\\n\\n<pre><code># views.py\\nfrom django.views.generic.list_detail import object_list\\n\\ndef object_list_wrapper(*args, **kwargs):\\n    category = kwargs.pop(\\'category\\')\\n    queryset = Post.objects.filter(category = category)\\n    kwargs[\\'queryset\\'] = queryset\\n    return object_list(*args, **kwargs)\\n\\n#urls.py\\nurlpatterns = patterns(\\'myapp.views\\',\\n    url(r\\'^$\\', \\'object_list_wrapper\\', {}, name=\"postRoot\"),        \\n...\\n</code></pre>\\n', _ClosedDate=None, _CommentCount=2, _CommunityOwnedDate=None, _CreationDate=datetime.datetime(2010, 9, 20, 22, 36, 28, 23000), _FavoriteCount=None, _Id=3754384, _LastActivityDate=datetime.datetime(2010, 9, 20, 22, 43, 25, 493000), _LastEditDate=datetime.datetime(2010, 9, 20, 22, 43, 25, 493000), _LastEditorDisplayName=None, _LastEditorUserId=140185, _OwnerDisplayName=None, _OwnerUserId=140185, _ParentId=3754279, _PostTypeId=2, _Score=2, _Tags=None, _Title=None, _ViewCount=None),\n",
       " Row(_AcceptedAnswerId=None, _AnswerCount=None, _Body='<p>If you want a quick solution without delving too much and using a wrapper, <a href=\"http://jsmooth.sourceforge.net/\" rel=\"nofollow noreferrer\">Jsmooth</a> does its job well.</p>\\n', _ClosedDate=None, _CommentCount=2, _CommunityOwnedDate=None, _CreationDate=datetime.datetime(2010, 9, 20, 23, 4, 13, 587000), _FavoriteCount=None, _Id=3754601, _LastActivityDate=datetime.datetime(2010, 9, 20, 23, 4, 13, 587000), _LastEditDate=None, _LastEditorDisplayName=None, _LastEditorUserId=None, _OwnerDisplayName=None, _OwnerUserId=7280, _ParentId=3754553, _PostTypeId=2, _Score=1, _Tags=None, _Title=None, _ViewCount=None),\n",
       " Row(_AcceptedAnswerId=None, _AnswerCount=None, _Body='<p>The very first optimization you should do is to drop glBegin/glEnd (Immediate mode) and move to Vertex Arrays (VAs) and Vertex Buffer Objects (VBOs).</p>\\n\\n<p>You might also want to look into Point Sprites to draw the particles.</p>\\n', _ClosedDate=None, _CommentCount=0, _CommunityOwnedDate=None, _CreationDate=datetime.datetime(2010, 9, 21, 6, 7, 51, 100000), _FavoriteCount=None, _Id=3756831, _LastActivityDate=datetime.datetime(2010, 9, 21, 6, 7, 51, 100000), _LastEditDate=None, _LastEditorDisplayName=None, _LastEditorUserId=None, _OwnerDisplayName=None, _OwnerUserId=349130, _ParentId=3756770, _PostTypeId=2, _Score=9, _Tags=None, _Title=None, _ViewCount=None),\n",
       " Row(_AcceptedAnswerId=None, _AnswerCount=None, _Body='<p>It seems to me that you only need SQL-92 for this.  Of course, explicit documentation of the joining columns between the tables would help.</p>\\n\\n<h3>Simple names</h3>\\n\\n<pre><code>SELECT B.ID, C.ChosenDate, N.Name\\n  FROM (SELECT A.AnalyseID, MAX(A.Date) AS ChosenDate\\n          FROM Analyses AS A\\n         GROUP BY A.AnalyseID) AS C\\n  JOIN Analyses AS B ON C.AnalyseID = B.AnalyseID AND C.ChosenDate = B.Date\\n  JOIN Names    AS N ON N.AnalyseID = C.AnalyseID\\n</code></pre>\\n\\n<p>The sub-select generates the latest analysis for each company; the join with Analyses picks up the <code>Analyse.ID</code> value corresponding to that latest analysis, and the join with Names picks up the company name.  (The <code>C.ChosenDate</code> in the select-list could be replaced by <code>B.Date AS ChosenDate</code>, of course.)</p>\\n\\n<h3>Complicated names</h3>\\n\\n<pre><code>SELECT B.ID, C.ChosenDateTime, N.Name\\n  FROM (SELECT A.CompanyID, MAX(A.ChosenDateTime) AS ChosenDateTime\\n          FROM vAnalysesHistory AS A\\n         GROUP BY A.CompanyID) AS C\\n  JOIN vAnalysesHistory AS B ON C.CompanyID      = B.CompanyID\\n                            AND C.ChosenDateTime = B.ChosenDateTime\\n  JOIN vStockNames AS N ON N.AnalyseID = C.AnalyseID\\n</code></pre>\\n\\n<p>Same query with systematic renaming (and slightly different layout to avoid horizontal scrollbars).</p>\\n', _ClosedDate=None, _CommentCount=3, _CommunityOwnedDate=None, _CreationDate=datetime.datetime(2010, 9, 21, 11, 33, 58, 707000), _FavoriteCount=None, _Id=3758183, _LastActivityDate=datetime.datetime(2010, 9, 21, 11, 33, 58, 707000), _LastEditDate=None, _LastEditorDisplayName=None, _LastEditorUserId=None, _OwnerDisplayName=None, _OwnerUserId=15168, _ParentId=3754526, _PostTypeId=2, _Score=0, _Tags=None, _Title=None, _ViewCount=None),\n",
       " Row(_AcceptedAnswerId=None, _AnswerCount=None, _Body='<p>In Django origin models this fields are named based on Model type ie.</p>\\n\\n<ul>\\n<li>auth.User: date_joined</li>\\n<li>comments.Comment: submit_date</li>\\n</ul>\\n\\n<p>So probably we should follow this convention.</p>\\n', _ClosedDate=None, _CommentCount=3, _CommunityOwnedDate=datetime.datetime(2010, 9, 21, 15, 46, 48, 240000), _CreationDate=datetime.datetime(2010, 9, 21, 15, 46, 48, 240000), _FavoriteCount=None, _Id=3759958, _LastActivityDate=datetime.datetime(2010, 9, 21, 17, 40, 10, 653000), _LastEditDate=datetime.datetime(2010, 9, 21, 17, 40, 10, 653000), _LastEditorDisplayName=None, _LastEditorUserId=377095, _OwnerDisplayName=None, _OwnerUserId=377095, _ParentId=3759524, _PostTypeId=2, _Score=1, _Tags=None, _Title=None, _ViewCount=None),\n",
       " Row(_AcceptedAnswerId=None, _AnswerCount=None, _Body=\"<p>You can't. Microsoft introduced office open xml standard from Word 2007. Word 2003 uses binary format.</p>\\n\", _ClosedDate=None, _CommentCount=0, _CommunityOwnedDate=None, _CreationDate=datetime.datetime(2010, 9, 21, 16, 7, 58, 707000), _FavoriteCount=None, _Id=3760101, _LastActivityDate=datetime.datetime(2010, 9, 21, 16, 7, 58, 707000), _LastEditDate=None, _LastEditorDisplayName=None, _LastEditorUserId=None, _OwnerDisplayName=None, _OwnerUserId=155641, _ParentId=3760066, _PostTypeId=2, _Score=1, _Tags=None, _Title=None, _ViewCount=None),\n",
       " Row(_AcceptedAnswerId=None, _AnswerCount=None, _Body=\"<p>I don't know, how to do so in ASP. But I have done same thing using PHP. First thing you can do is, you can map the RPX account with your local site accounts. Just save profile information you get from RPX and create a new account in your site using that information. You will have to save that profile data in your database's table that you use for login and register.</p>\\n\\n<p>After user logs in to your site using RPX, store the profile information given by RPX in session. Now you are done with your requirement. Now you can treat that user as a normal user of your site.</p>\\n\", _ClosedDate=None, _CommentCount=0, _CommunityOwnedDate=None, _CreationDate=datetime.datetime(2010, 9, 21, 17, 16, 27, 327000), _FavoriteCount=None, _Id=3760630, _LastActivityDate=datetime.datetime(2010, 9, 21, 17, 16, 27, 327000), _LastEditDate=None, _LastEditorDisplayName=None, _LastEditorUserId=None, _OwnerDisplayName=None, _OwnerUserId=417143, _ParentId=2739558, _PostTypeId=2, _Score=0, _Tags=None, _Title=None, _ViewCount=None),\n",
       " Row(_AcceptedAnswerId=None, _AnswerCount=None, _Body=\"<p>You can't unless you use a server proxy like BlazeDS that transforms non-200 responses into 200 responses.  Or if you control the server-side then force the error responses to be HTTP 200.  This problem is due to a limitation in the browser (NPAPI) that prevents non-200 responses from being passed to plugins.</p>\\n\", _ClosedDate=None, _CommentCount=2, _CommunityOwnedDate=None, _CreationDate=datetime.datetime(2010, 9, 21, 19, 9, 55, 670000), _FavoriteCount=None, _Id=3761678, _LastActivityDate=datetime.datetime(2010, 9, 21, 19, 9, 55, 670000), _LastEditDate=None, _LastEditorDisplayName=None, _LastEditorUserId=None, _OwnerDisplayName=None, _OwnerUserId=77409, _ParentId=3761429, _PostTypeId=2, _Score=2, _Tags=None, _Title=None, _ViewCount=None),\n",
       " Row(_AcceptedAnswerId=None, _AnswerCount=None, _Body='<p>Assume your search key starts in A1 and your data starts in A3.  This array formula will return the row number where all the data matches the search key</p>\\n\\n<pre><code>=SUM(($A$3:$A$6=A1)*($B$3:$B$6=B1)*($C$3:$C$6=C1)*($D$3:$D$6=D1)*(ROW($A$3:$A$6)))\\n</code></pre>\\n\\n<p>Enter with Control+Shift+Enter, not just Enter.  Note that it returns the worksheet row, not the position in the table.  If you want the position in the table, you could subtract one less than the starting row of the table from the result (2 in this case because the table starts on row 3).</p>\\n\\n<p>If there are more than one rows that match, this will return the sum of all the rows (not very helpful).  But I assumed there was only one matching row.</p>\\n', _ClosedDate=None, _CommentCount=0, _CommunityOwnedDate=None, _CreationDate=datetime.datetime(2010, 9, 21, 20, 22, 24, 963000), _FavoriteCount=None, _Id=3762339, _LastActivityDate=datetime.datetime(2010, 9, 21, 20, 22, 24, 963000), _LastEditDate=None, _LastEditorDisplayName=None, _LastEditorUserId=None, _OwnerDisplayName=None, _OwnerUserId=4280, _ParentId=3761757, _PostTypeId=2, _Score=0, _Tags=None, _Title=None, _ViewCount=None)]"
      ]
     },
     "execution_count": 162,
     "metadata": {},
     "output_type": "execute_result"
    }
   ],
   "source": [
    "posts_sample_period = posts_sample.filter(lambda row: (2009 < row._CreationDate.year) and (row._CreationDate.year < 2021))\n",
    "posts_sample_period.take(10)"
   ]
  },
  {
   "cell_type": "code",
   "execution_count": 223,
   "id": "93ec576b-785a-4599-b4f1-4fdf47f707f8",
   "metadata": {},
   "outputs": [],
   "source": [
    "languages_name = sc.read.csv(\"data/programming-languages.csv\")"
   ]
  },
  {
   "cell_type": "code",
   "execution_count": 224,
   "id": "4d096761-d2bd-4d62-b543-1b7e423c71b5",
   "metadata": {},
   "outputs": [
    {
     "data": {
      "text/plain": [
       "[Row(_c0='name', _c1='wikipedia_url'),\n",
       " Row(_c0='A# .NET', _c1='https://en.wikipedia.org/wiki/A_Sharp_(.NET)'),\n",
       " Row(_c0='A# (Axiom)', _c1='https://en.wikipedia.org/wiki/A_Sharp_(Axiom)'),\n",
       " Row(_c0='A-0 System', _c1='https://en.wikipedia.org/wiki/A-0_System'),\n",
       " Row(_c0='A+', _c1='https://en.wikipedia.org/wiki/A%2B_(programming_language)'),\n",
       " Row(_c0='A++', _c1='https://en.wikipedia.org/wiki/A%2B%2B'),\n",
       " Row(_c0='ABAP', _c1='https://en.wikipedia.org/wiki/ABAP'),\n",
       " Row(_c0='ABC', _c1='https://en.wikipedia.org/wiki/ABC_(programming_language)'),\n",
       " Row(_c0='ABC ALGOL', _c1='https://en.wikipedia.org/wiki/ABC_ALGOL'),\n",
       " Row(_c0='ABSET', _c1='https://en.wikipedia.org/wiki/ABSET')]"
      ]
     },
     "execution_count": 224,
     "metadata": {},
     "output_type": "execute_result"
    }
   ],
   "source": [
    "languages_name.take(10)"
   ]
  },
  {
   "cell_type": "code",
   "execution_count": 225,
   "id": "7cdc5e8e-a2cc-4fad-b4b7-49ec6a5a9978",
   "metadata": {},
   "outputs": [
    {
     "data": {
      "text/plain": [
       "Row(_c0='name', _c1='wikipedia_url')"
      ]
     },
     "execution_count": 225,
     "metadata": {},
     "output_type": "execute_result"
    }
   ],
   "source": [
    "languages_name_header = languages_name.first()\n",
    "languages_name_header"
   ]
  },
  {
   "cell_type": "code",
   "execution_count": 226,
   "id": "121259fd-bda1-4ba2-b795-39c79f842c72",
   "metadata": {},
   "outputs": [
    {
     "data": {
      "text/plain": [
       "DataFrame[_c0: string, _c1: string]"
      ]
     },
     "execution_count": 226,
     "metadata": {},
     "output_type": "execute_result"
    }
   ],
   "source": [
    "languages_name"
   ]
  },
  {
   "cell_type": "code",
   "execution_count": 227,
   "id": "b0def7da-6080-4181-979c-1573a62dd80f",
   "metadata": {},
   "outputs": [
    {
     "data": {
      "text/plain": [
       "['name',\n",
       " 'A# .NET',\n",
       " 'A# (Axiom)',\n",
       " 'A-0 System',\n",
       " 'A+',\n",
       " 'A++',\n",
       " 'ABAP',\n",
       " 'ABC',\n",
       " 'ABC ALGOL',\n",
       " 'ABSET',\n",
       " 'ABSYS',\n",
       " 'ACC',\n",
       " 'Accent',\n",
       " 'Ace DASL',\n",
       " 'ACL2',\n",
       " 'ACT-III',\n",
       " 'Action!',\n",
       " 'ActionScript',\n",
       " 'Ada',\n",
       " 'Adenine']"
      ]
     },
     "execution_count": 227,
     "metadata": {},
     "output_type": "execute_result"
    }
   ],
   "source": [
    "names = []\n",
    "for x in languages_name.collect():\n",
    "    names.append(str(x[0]))\n",
    "\n",
    "names[0:20]"
   ]
  },
  {
   "cell_type": "code",
   "execution_count": 228,
   "id": "8fcbc804-514f-4241-962d-17a1b7269962",
   "metadata": {},
   "outputs": [
    {
     "data": {
      "text/plain": [
       "700"
      ]
     },
     "execution_count": 228,
     "metadata": {},
     "output_type": "execute_result"
    }
   ],
   "source": [
    "count_langueges = len(names)-1\n",
    "count_langueges"
   ]
  },
  {
   "cell_type": "code",
   "execution_count": 229,
   "id": "76272d72-dd20-47a6-807d-0569c2a4a477",
   "metadata": {},
   "outputs": [],
   "source": [
    "def includes_name(x):\n",
    "    tag = None\n",
    "    for name in names:\n",
    "        n = '<' + name.lower() + '>'\n",
    "        if n in str(x._Tags).lower():\n",
    "            tag = name\n",
    "            break\n",
    "    if tag is None:\n",
    "        tag = 'No'\n",
    "            \n",
    "    return (x[6], tag)"
   ]
  },
  {
   "cell_type": "code",
   "execution_count": 230,
   "id": "5404b1b7-3926-4f8f-b521-77ec828c9e0f",
   "metadata": {},
   "outputs": [
    {
     "data": {
      "text/plain": [
       "[(datetime.datetime(2010, 9, 23, 16, 13, 59, 443000), 'Java'),\n",
       " (datetime.datetime(2010, 9, 26, 21, 7, 4, 840000), 'PHP'),\n",
       " (datetime.datetime(2010, 9, 30, 22, 27, 56, 320000), 'Ruby'),\n",
       " (datetime.datetime(2010, 10, 1, 15, 52, 42, 210000), 'C'),\n",
       " (datetime.datetime(2010, 10, 5, 1, 5, 50, 150000), 'PHP')]"
      ]
     },
     "execution_count": 230,
     "metadata": {},
     "output_type": "execute_result"
    }
   ],
   "source": [
    "period_language = posts_sample_period.map(includes_name).filter(lambda x: x[1] != 'No')\n",
    "period_language.take(5)"
   ]
  },
  {
   "cell_type": "code",
   "execution_count": 232,
   "id": "d54426f0-55bf-406a-8363-6bab54767590",
   "metadata": {},
   "outputs": [],
   "source": [
    "period_language_group = period_language.keyBy(lambda row: (row[0].year,row[1])).aggregateByKey(0, lambda x, y: x + 1, lambda x1, x2: x1 + x2).sortBy(lambda x: x[1], ascending=False)"
   ]
  },
  {
   "cell_type": "code",
   "execution_count": 233,
   "id": "68a0111e-2e55-4274-9a84-31f3950fe9d2",
   "metadata": {},
   "outputs": [
    {
     "data": {
      "text/plain": [
       "[((2016, 'JavaScript'), 272),\n",
       " ((2015, 'JavaScript'), 270),\n",
       " ((2017, 'JavaScript'), 244),\n",
       " ((2014, 'JavaScript'), 235),\n",
       " ((2014, 'Java'), 228)]"
      ]
     },
     "execution_count": 233,
     "metadata": {},
     "output_type": "execute_result"
    }
   ],
   "source": [
    "period_language_group.take(5)"
   ]
  },
  {
   "cell_type": "code",
   "execution_count": 234,
   "id": "e21bd435-9e47-4593-bc33-10df4ed72d92",
   "metadata": {},
   "outputs": [],
   "source": [
    "list_period_language_group = []\n",
    "\n",
    "for row in period_language_group.collect():\n",
    "    list_row = []\n",
    "    for i in row[0]:\n",
    "        list_row.append(i)\n",
    "    list_row.append(row[1])\n",
    "    \n",
    "    list_period_language_group.append([list_row[0], list_row[1], list_row[2]])\n",
    "    "
   ]
  },
  {
   "cell_type": "code",
   "execution_count": 235,
   "id": "eee12843-38e0-4bfc-9004-9a00cfaf0b11",
   "metadata": {},
   "outputs": [
    {
     "data": {
      "text/plain": [
       "[[2016, 'JavaScript', 272],\n",
       " [2015, 'JavaScript', 270],\n",
       " [2017, 'JavaScript', 244],\n",
       " [2014, 'JavaScript', 235],\n",
       " [2014, 'Java', 228],\n",
       " [2018, 'Python', 214],\n",
       " [2015, 'Java', 208],\n",
       " [2017, 'Java', 204],\n",
       " [2013, 'JavaScript', 196],\n",
       " [2018, 'JavaScript', 196]]"
      ]
     },
     "execution_count": 235,
     "metadata": {},
     "output_type": "execute_result"
    }
   ],
   "source": [
    "list_period_language_group[0:10]"
   ]
  },
  {
   "cell_type": "code",
   "execution_count": 236,
   "id": "53bf40d4-9705-4d61-b462-a23fa36e97d5",
   "metadata": {},
   "outputs": [],
   "source": [
    "from pyspark.sql import Row\n",
    "rows = Row('Year','Language','Count')\n",
    "df=sc.createDataFrame([rows(x,y,z) for x,y,z in (list_period_language_group[0:10])])"
   ]
  },
  {
   "cell_type": "code",
   "execution_count": 237,
   "id": "9a7fc575-d60d-4b69-b08e-2be279bbb16f",
   "metadata": {},
   "outputs": [
    {
     "name": "stdout",
     "output_type": "stream",
     "text": [
      "+----+----------+-----+\n",
      "|Year|  Language|Count|\n",
      "+----+----------+-----+\n",
      "|2016|JavaScript|  272|\n",
      "|2015|JavaScript|  270|\n",
      "|2017|JavaScript|  244|\n",
      "|2014|JavaScript|  235|\n",
      "|2014|      Java|  228|\n",
      "|2018|    Python|  214|\n",
      "|2015|      Java|  208|\n",
      "|2017|      Java|  204|\n",
      "|2013|JavaScript|  196|\n",
      "|2018|JavaScript|  196|\n",
      "+----+----------+-----+\n"
     ]
    }
   ],
   "source": [
    "df.show()"
   ]
  },
  {
   "cell_type": "code",
   "execution_count": 239,
   "id": "f34eba79-5cd6-4473-ad76-3528ca4ec30f",
   "metadata": {},
   "outputs": [],
   "source": [
    "# Получившийся отчёт сохранить в формате Apache Parquet\n",
    "df.write.parquet(\"10_language.parquet\")"
   ]
  }
 ],
 "metadata": {
  "kernelspec": {
   "display_name": "Python 3",
   "language": "python",
   "name": "python3"
  },
  "language_info": {
   "codemirror_mode": {
    "name": "ipython",
    "version": 3
   },
   "file_extension": ".py",
   "mimetype": "text/x-python",
   "name": "python",
   "nbconvert_exporter": "python",
   "pygments_lexer": "ipython3",
   "version": "3.9.5"
  }
 },
 "nbformat": 4,
 "nbformat_minor": 5
}
